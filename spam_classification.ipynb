{
  "cells": [
    {
      "cell_type": "markdown",
      "source": [
        "# Trivial spam classifier\n",
        "\n",
        "This is a step-by-step guidance for a simple spam classifier, first, using basic RNN with LSTM layers. And then, comparing it with a few alternative architectures that are commonly used in text classification tasks like spam detection.\n",
        "\n",
        "## Prerequisites\n",
        "You need to ensure you have the dataset available. I used Google Colab, mounted the drive, and used the valid path to the dataset .csv file `dataset_path` specified in the code.\n",
        "\n",
        "## Acknowledgements\n",
        "\n",
        "The dataset used is from [Email Spam Detection Dataset (classification)](https://www.kaggle.com/datasets/shantanudhakadd/email-spam-detection-dataset-classification/)."
      ],
      "metadata": {
        "id": "yW0q742o8Wiy"
      }
    },
    {
      "cell_type": "markdown",
      "source": [
        "# Mount drive and define dataset path"
      ],
      "metadata": {
        "id": "pNBqZDaAOR5I"
      }
    },
    {
      "cell_type": "code",
      "source": [
        "from google.colab import drive\n",
        "drive.mount('/content/drive')\n",
        "\n",
        "dataset_path = '/content/drive/MyDrive/PROJECTS/Trivial spam classifier/spam_or_not_spam.csv'"
      ],
      "metadata": {
        "colab": {
          "base_uri": "https://localhost:8080/"
        },
        "id": "BcvQgNGcwyOy",
        "outputId": "26a7b8c3-7efc-45cc-bdd4-6e9a0b7c58bc"
      },
      "execution_count": 6,
      "outputs": [
        {
          "output_type": "stream",
          "name": "stdout",
          "text": [
            "Drive already mounted at /content/drive; to attempt to forcibly remount, call drive.mount(\"/content/drive\", force_remount=True).\n"
          ]
        }
      ]
    },
    {
      "cell_type": "markdown",
      "source": [
        "# Data preparation\n",
        "Load the dataset and shuffle the data. This is done to randomize the order of the rows, which can be useful when preparing data for training to avoid any bias introduced by the original order of the data."
      ],
      "metadata": {
        "id": "ldufegv4z152"
      }
    },
    {
      "cell_type": "code",
      "execution_count": 7,
      "metadata": {
        "_cell_guid": "79c7e3d0-c299-4dcb-8224-4455121ee9b0",
        "_uuid": "d629ff2d2480ee46fbb7e2d37f6b5fab8052498a",
        "id": "CVm_00TagpGc",
        "colab": {
          "base_uri": "https://localhost:8080/",
          "height": 206
        },
        "outputId": "0d4339f3-b4b3-44f6-a45b-ca624fbb5da2"
      },
      "outputs": [
        {
          "output_type": "execute_result",
          "data": {
            "text/plain": [
              "                                                  email  label\n",
              "2213  Goodmorning, today i am late for 2hrs. Because...      0\n",
              "2557  This message is brought to you by GMW Ltd. and...      1\n",
              "2966        NEFT Transaction with reference number  &lt      0\n",
              "3476  I got it before the new year cos yetunde said ...      0\n",
              "1442             Its ok., i just askd did u knw tht no?      0"
            ],
            "text/html": [
              "\n",
              "  <div id=\"df-3144a8f1-ac43-4412-a280-f1c45dcf4269\" class=\"colab-df-container\">\n",
              "    <div>\n",
              "<style scoped>\n",
              "    .dataframe tbody tr th:only-of-type {\n",
              "        vertical-align: middle;\n",
              "    }\n",
              "\n",
              "    .dataframe tbody tr th {\n",
              "        vertical-align: top;\n",
              "    }\n",
              "\n",
              "    .dataframe thead th {\n",
              "        text-align: right;\n",
              "    }\n",
              "</style>\n",
              "<table border=\"1\" class=\"dataframe\">\n",
              "  <thead>\n",
              "    <tr style=\"text-align: right;\">\n",
              "      <th></th>\n",
              "      <th>email</th>\n",
              "      <th>label</th>\n",
              "    </tr>\n",
              "  </thead>\n",
              "  <tbody>\n",
              "    <tr>\n",
              "      <th>2213</th>\n",
              "      <td>Goodmorning, today i am late for 2hrs. Because...</td>\n",
              "      <td>0</td>\n",
              "    </tr>\n",
              "    <tr>\n",
              "      <th>2557</th>\n",
              "      <td>This message is brought to you by GMW Ltd. and...</td>\n",
              "      <td>1</td>\n",
              "    </tr>\n",
              "    <tr>\n",
              "      <th>2966</th>\n",
              "      <td>NEFT Transaction with reference number  &amp;lt</td>\n",
              "      <td>0</td>\n",
              "    </tr>\n",
              "    <tr>\n",
              "      <th>3476</th>\n",
              "      <td>I got it before the new year cos yetunde said ...</td>\n",
              "      <td>0</td>\n",
              "    </tr>\n",
              "    <tr>\n",
              "      <th>1442</th>\n",
              "      <td>Its ok., i just askd did u knw tht no?</td>\n",
              "      <td>0</td>\n",
              "    </tr>\n",
              "  </tbody>\n",
              "</table>\n",
              "</div>\n",
              "    <div class=\"colab-df-buttons\">\n",
              "\n",
              "  <div class=\"colab-df-container\">\n",
              "    <button class=\"colab-df-convert\" onclick=\"convertToInteractive('df-3144a8f1-ac43-4412-a280-f1c45dcf4269')\"\n",
              "            title=\"Convert this dataframe to an interactive table.\"\n",
              "            style=\"display:none;\">\n",
              "\n",
              "  <svg xmlns=\"http://www.w3.org/2000/svg\" height=\"24px\" viewBox=\"0 -960 960 960\">\n",
              "    <path d=\"M120-120v-720h720v720H120Zm60-500h600v-160H180v160Zm220 220h160v-160H400v160Zm0 220h160v-160H400v160ZM180-400h160v-160H180v160Zm440 0h160v-160H620v160ZM180-180h160v-160H180v160Zm440 0h160v-160H620v160Z\"/>\n",
              "  </svg>\n",
              "    </button>\n",
              "\n",
              "  <style>\n",
              "    .colab-df-container {\n",
              "      display:flex;\n",
              "      gap: 12px;\n",
              "    }\n",
              "\n",
              "    .colab-df-convert {\n",
              "      background-color: #E8F0FE;\n",
              "      border: none;\n",
              "      border-radius: 50%;\n",
              "      cursor: pointer;\n",
              "      display: none;\n",
              "      fill: #1967D2;\n",
              "      height: 32px;\n",
              "      padding: 0 0 0 0;\n",
              "      width: 32px;\n",
              "    }\n",
              "\n",
              "    .colab-df-convert:hover {\n",
              "      background-color: #E2EBFA;\n",
              "      box-shadow: 0px 1px 2px rgba(60, 64, 67, 0.3), 0px 1px 3px 1px rgba(60, 64, 67, 0.15);\n",
              "      fill: #174EA6;\n",
              "    }\n",
              "\n",
              "    .colab-df-buttons div {\n",
              "      margin-bottom: 4px;\n",
              "    }\n",
              "\n",
              "    [theme=dark] .colab-df-convert {\n",
              "      background-color: #3B4455;\n",
              "      fill: #D2E3FC;\n",
              "    }\n",
              "\n",
              "    [theme=dark] .colab-df-convert:hover {\n",
              "      background-color: #434B5C;\n",
              "      box-shadow: 0px 1px 3px 1px rgba(0, 0, 0, 0.15);\n",
              "      filter: drop-shadow(0px 1px 2px rgba(0, 0, 0, 0.3));\n",
              "      fill: #FFFFFF;\n",
              "    }\n",
              "  </style>\n",
              "\n",
              "    <script>\n",
              "      const buttonEl =\n",
              "        document.querySelector('#df-3144a8f1-ac43-4412-a280-f1c45dcf4269 button.colab-df-convert');\n",
              "      buttonEl.style.display =\n",
              "        google.colab.kernel.accessAllowed ? 'block' : 'none';\n",
              "\n",
              "      async function convertToInteractive(key) {\n",
              "        const element = document.querySelector('#df-3144a8f1-ac43-4412-a280-f1c45dcf4269');\n",
              "        const dataTable =\n",
              "          await google.colab.kernel.invokeFunction('convertToInteractive',\n",
              "                                                    [key], {});\n",
              "        if (!dataTable) return;\n",
              "\n",
              "        const docLinkHtml = 'Like what you see? Visit the ' +\n",
              "          '<a target=\"_blank\" href=https://colab.research.google.com/notebooks/data_table.ipynb>data table notebook</a>'\n",
              "          + ' to learn more about interactive tables.';\n",
              "        element.innerHTML = '';\n",
              "        dataTable['output_type'] = 'display_data';\n",
              "        await google.colab.output.renderOutput(dataTable, element);\n",
              "        const docLink = document.createElement('div');\n",
              "        docLink.innerHTML = docLinkHtml;\n",
              "        element.appendChild(docLink);\n",
              "      }\n",
              "    </script>\n",
              "  </div>\n",
              "\n",
              "\n",
              "<div id=\"df-4e14769d-cfe4-4120-ac2a-280a2e23bdbf\">\n",
              "  <button class=\"colab-df-quickchart\" onclick=\"quickchart('df-4e14769d-cfe4-4120-ac2a-280a2e23bdbf')\"\n",
              "            title=\"Suggest charts\"\n",
              "            style=\"display:none;\">\n",
              "\n",
              "<svg xmlns=\"http://www.w3.org/2000/svg\" height=\"24px\"viewBox=\"0 0 24 24\"\n",
              "     width=\"24px\">\n",
              "    <g>\n",
              "        <path d=\"M19 3H5c-1.1 0-2 .9-2 2v14c0 1.1.9 2 2 2h14c1.1 0 2-.9 2-2V5c0-1.1-.9-2-2-2zM9 17H7v-7h2v7zm4 0h-2V7h2v10zm4 0h-2v-4h2v4z\"/>\n",
              "    </g>\n",
              "</svg>\n",
              "  </button>\n",
              "\n",
              "<style>\n",
              "  .colab-df-quickchart {\n",
              "      --bg-color: #E8F0FE;\n",
              "      --fill-color: #1967D2;\n",
              "      --hover-bg-color: #E2EBFA;\n",
              "      --hover-fill-color: #174EA6;\n",
              "      --disabled-fill-color: #AAA;\n",
              "      --disabled-bg-color: #DDD;\n",
              "  }\n",
              "\n",
              "  [theme=dark] .colab-df-quickchart {\n",
              "      --bg-color: #3B4455;\n",
              "      --fill-color: #D2E3FC;\n",
              "      --hover-bg-color: #434B5C;\n",
              "      --hover-fill-color: #FFFFFF;\n",
              "      --disabled-bg-color: #3B4455;\n",
              "      --disabled-fill-color: #666;\n",
              "  }\n",
              "\n",
              "  .colab-df-quickchart {\n",
              "    background-color: var(--bg-color);\n",
              "    border: none;\n",
              "    border-radius: 50%;\n",
              "    cursor: pointer;\n",
              "    display: none;\n",
              "    fill: var(--fill-color);\n",
              "    height: 32px;\n",
              "    padding: 0;\n",
              "    width: 32px;\n",
              "  }\n",
              "\n",
              "  .colab-df-quickchart:hover {\n",
              "    background-color: var(--hover-bg-color);\n",
              "    box-shadow: 0 1px 2px rgba(60, 64, 67, 0.3), 0 1px 3px 1px rgba(60, 64, 67, 0.15);\n",
              "    fill: var(--button-hover-fill-color);\n",
              "  }\n",
              "\n",
              "  .colab-df-quickchart-complete:disabled,\n",
              "  .colab-df-quickchart-complete:disabled:hover {\n",
              "    background-color: var(--disabled-bg-color);\n",
              "    fill: var(--disabled-fill-color);\n",
              "    box-shadow: none;\n",
              "  }\n",
              "\n",
              "  .colab-df-spinner {\n",
              "    border: 2px solid var(--fill-color);\n",
              "    border-color: transparent;\n",
              "    border-bottom-color: var(--fill-color);\n",
              "    animation:\n",
              "      spin 1s steps(1) infinite;\n",
              "  }\n",
              "\n",
              "  @keyframes spin {\n",
              "    0% {\n",
              "      border-color: transparent;\n",
              "      border-bottom-color: var(--fill-color);\n",
              "      border-left-color: var(--fill-color);\n",
              "    }\n",
              "    20% {\n",
              "      border-color: transparent;\n",
              "      border-left-color: var(--fill-color);\n",
              "      border-top-color: var(--fill-color);\n",
              "    }\n",
              "    30% {\n",
              "      border-color: transparent;\n",
              "      border-left-color: var(--fill-color);\n",
              "      border-top-color: var(--fill-color);\n",
              "      border-right-color: var(--fill-color);\n",
              "    }\n",
              "    40% {\n",
              "      border-color: transparent;\n",
              "      border-right-color: var(--fill-color);\n",
              "      border-top-color: var(--fill-color);\n",
              "    }\n",
              "    60% {\n",
              "      border-color: transparent;\n",
              "      border-right-color: var(--fill-color);\n",
              "    }\n",
              "    80% {\n",
              "      border-color: transparent;\n",
              "      border-right-color: var(--fill-color);\n",
              "      border-bottom-color: var(--fill-color);\n",
              "    }\n",
              "    90% {\n",
              "      border-color: transparent;\n",
              "      border-bottom-color: var(--fill-color);\n",
              "    }\n",
              "  }\n",
              "</style>\n",
              "\n",
              "  <script>\n",
              "    async function quickchart(key) {\n",
              "      const quickchartButtonEl =\n",
              "        document.querySelector('#' + key + ' button');\n",
              "      quickchartButtonEl.disabled = true;  // To prevent multiple clicks.\n",
              "      quickchartButtonEl.classList.add('colab-df-spinner');\n",
              "      try {\n",
              "        const charts = await google.colab.kernel.invokeFunction(\n",
              "            'suggestCharts', [key], {});\n",
              "      } catch (error) {\n",
              "        console.error('Error during call to suggestCharts:', error);\n",
              "      }\n",
              "      quickchartButtonEl.classList.remove('colab-df-spinner');\n",
              "      quickchartButtonEl.classList.add('colab-df-quickchart-complete');\n",
              "    }\n",
              "    (() => {\n",
              "      let quickchartButtonEl =\n",
              "        document.querySelector('#df-4e14769d-cfe4-4120-ac2a-280a2e23bdbf button');\n",
              "      quickchartButtonEl.style.display =\n",
              "        google.colab.kernel.accessAllowed ? 'block' : 'none';\n",
              "    })();\n",
              "  </script>\n",
              "</div>\n",
              "\n",
              "    </div>\n",
              "  </div>\n"
            ],
            "application/vnd.google.colaboratory.intrinsic+json": {
              "type": "dataframe",
              "variable_name": "data",
              "summary": "{\n  \"name\": \"data\",\n  \"rows\": 5572,\n  \"fields\": [\n    {\n      \"column\": \"email\",\n      \"properties\": {\n        \"dtype\": \"string\",\n        \"num_unique_values\": 5163,\n        \"samples\": [\n          \"Life spend with someone for a lifetime may be meaningless but a few moments spent with someone who really love you means more than life itself..\",\n          \"Kent vale lor... \\ufffd\\ufffd wait 4 me there ar?\",\n          \"Shall i ask one thing if you dont mistake me.\"\n        ],\n        \"semantic_type\": \"\",\n        \"description\": \"\"\n      }\n    },\n    {\n      \"column\": \"label\",\n      \"properties\": {\n        \"dtype\": \"number\",\n        \"std\": 0,\n        \"min\": 0,\n        \"max\": 1,\n        \"num_unique_values\": 2,\n        \"samples\": [\n          1,\n          0\n        ],\n        \"semantic_type\": \"\",\n        \"description\": \"\"\n      }\n    }\n  ]\n}"
            }
          },
          "metadata": {},
          "execution_count": 7
        }
      ],
      "source": [
        "import pandas as pd\n",
        "from sklearn.utils import shuffle\n",
        "\n",
        "data = pd.read_csv(dataset_path)\n",
        "data = shuffle(data)\n",
        "data.head()"
      ]
    },
    {
      "cell_type": "code",
      "source": [
        "data.info()"
      ],
      "metadata": {
        "colab": {
          "base_uri": "https://localhost:8080/"
        },
        "id": "I2zajjyfP8LC",
        "outputId": "992571ce-fc41-4c1c-c8f8-01a7a99068d9"
      },
      "execution_count": 8,
      "outputs": [
        {
          "output_type": "stream",
          "name": "stdout",
          "text": [
            "<class 'pandas.core.frame.DataFrame'>\n",
            "Index: 5572 entries, 2213 to 1646\n",
            "Data columns (total 2 columns):\n",
            " #   Column  Non-Null Count  Dtype \n",
            "---  ------  --------------  ----- \n",
            " 0   email   5571 non-null   object\n",
            " 1   label   5572 non-null   int64 \n",
            "dtypes: int64(1), object(1)\n",
            "memory usage: 130.6+ KB\n"
          ]
        }
      ]
    },
    {
      "cell_type": "code",
      "source": [
        "data.groupby('label').describe()"
      ],
      "metadata": {
        "colab": {
          "base_uri": "https://localhost:8080/",
          "height": 175
        },
        "id": "F1xsK87rQUvI",
        "outputId": "7c19182f-de20-4101-cbc7-59d731767ee4"
      },
      "execution_count": 9,
      "outputs": [
        {
          "output_type": "execute_result",
          "data": {
            "text/plain": [
              "      email                                                               \n",
              "      count unique                                                top freq\n",
              "label                                                                     \n",
              "0      4824   4510                             Sorry, I'll call later   30\n",
              "1       747    653  Please call our customer service representativ...    4"
            ],
            "text/html": [
              "\n",
              "  <div id=\"df-b8962e5f-378c-4b01-a7b5-bf8c013c411c\" class=\"colab-df-container\">\n",
              "    <div>\n",
              "<style scoped>\n",
              "    .dataframe tbody tr th:only-of-type {\n",
              "        vertical-align: middle;\n",
              "    }\n",
              "\n",
              "    .dataframe tbody tr th {\n",
              "        vertical-align: top;\n",
              "    }\n",
              "\n",
              "    .dataframe thead tr th {\n",
              "        text-align: left;\n",
              "    }\n",
              "\n",
              "    .dataframe thead tr:last-of-type th {\n",
              "        text-align: right;\n",
              "    }\n",
              "</style>\n",
              "<table border=\"1\" class=\"dataframe\">\n",
              "  <thead>\n",
              "    <tr>\n",
              "      <th></th>\n",
              "      <th colspan=\"4\" halign=\"left\">email</th>\n",
              "    </tr>\n",
              "    <tr>\n",
              "      <th></th>\n",
              "      <th>count</th>\n",
              "      <th>unique</th>\n",
              "      <th>top</th>\n",
              "      <th>freq</th>\n",
              "    </tr>\n",
              "    <tr>\n",
              "      <th>label</th>\n",
              "      <th></th>\n",
              "      <th></th>\n",
              "      <th></th>\n",
              "      <th></th>\n",
              "    </tr>\n",
              "  </thead>\n",
              "  <tbody>\n",
              "    <tr>\n",
              "      <th>0</th>\n",
              "      <td>4824</td>\n",
              "      <td>4510</td>\n",
              "      <td>Sorry, I'll call later</td>\n",
              "      <td>30</td>\n",
              "    </tr>\n",
              "    <tr>\n",
              "      <th>1</th>\n",
              "      <td>747</td>\n",
              "      <td>653</td>\n",
              "      <td>Please call our customer service representativ...</td>\n",
              "      <td>4</td>\n",
              "    </tr>\n",
              "  </tbody>\n",
              "</table>\n",
              "</div>\n",
              "    <div class=\"colab-df-buttons\">\n",
              "\n",
              "  <div class=\"colab-df-container\">\n",
              "    <button class=\"colab-df-convert\" onclick=\"convertToInteractive('df-b8962e5f-378c-4b01-a7b5-bf8c013c411c')\"\n",
              "            title=\"Convert this dataframe to an interactive table.\"\n",
              "            style=\"display:none;\">\n",
              "\n",
              "  <svg xmlns=\"http://www.w3.org/2000/svg\" height=\"24px\" viewBox=\"0 -960 960 960\">\n",
              "    <path d=\"M120-120v-720h720v720H120Zm60-500h600v-160H180v160Zm220 220h160v-160H400v160Zm0 220h160v-160H400v160ZM180-400h160v-160H180v160Zm440 0h160v-160H620v160ZM180-180h160v-160H180v160Zm440 0h160v-160H620v160Z\"/>\n",
              "  </svg>\n",
              "    </button>\n",
              "\n",
              "  <style>\n",
              "    .colab-df-container {\n",
              "      display:flex;\n",
              "      gap: 12px;\n",
              "    }\n",
              "\n",
              "    .colab-df-convert {\n",
              "      background-color: #E8F0FE;\n",
              "      border: none;\n",
              "      border-radius: 50%;\n",
              "      cursor: pointer;\n",
              "      display: none;\n",
              "      fill: #1967D2;\n",
              "      height: 32px;\n",
              "      padding: 0 0 0 0;\n",
              "      width: 32px;\n",
              "    }\n",
              "\n",
              "    .colab-df-convert:hover {\n",
              "      background-color: #E2EBFA;\n",
              "      box-shadow: 0px 1px 2px rgba(60, 64, 67, 0.3), 0px 1px 3px 1px rgba(60, 64, 67, 0.15);\n",
              "      fill: #174EA6;\n",
              "    }\n",
              "\n",
              "    .colab-df-buttons div {\n",
              "      margin-bottom: 4px;\n",
              "    }\n",
              "\n",
              "    [theme=dark] .colab-df-convert {\n",
              "      background-color: #3B4455;\n",
              "      fill: #D2E3FC;\n",
              "    }\n",
              "\n",
              "    [theme=dark] .colab-df-convert:hover {\n",
              "      background-color: #434B5C;\n",
              "      box-shadow: 0px 1px 3px 1px rgba(0, 0, 0, 0.15);\n",
              "      filter: drop-shadow(0px 1px 2px rgba(0, 0, 0, 0.3));\n",
              "      fill: #FFFFFF;\n",
              "    }\n",
              "  </style>\n",
              "\n",
              "    <script>\n",
              "      const buttonEl =\n",
              "        document.querySelector('#df-b8962e5f-378c-4b01-a7b5-bf8c013c411c button.colab-df-convert');\n",
              "      buttonEl.style.display =\n",
              "        google.colab.kernel.accessAllowed ? 'block' : 'none';\n",
              "\n",
              "      async function convertToInteractive(key) {\n",
              "        const element = document.querySelector('#df-b8962e5f-378c-4b01-a7b5-bf8c013c411c');\n",
              "        const dataTable =\n",
              "          await google.colab.kernel.invokeFunction('convertToInteractive',\n",
              "                                                    [key], {});\n",
              "        if (!dataTable) return;\n",
              "\n",
              "        const docLinkHtml = 'Like what you see? Visit the ' +\n",
              "          '<a target=\"_blank\" href=https://colab.research.google.com/notebooks/data_table.ipynb>data table notebook</a>'\n",
              "          + ' to learn more about interactive tables.';\n",
              "        element.innerHTML = '';\n",
              "        dataTable['output_type'] = 'display_data';\n",
              "        await google.colab.output.renderOutput(dataTable, element);\n",
              "        const docLink = document.createElement('div');\n",
              "        docLink.innerHTML = docLinkHtml;\n",
              "        element.appendChild(docLink);\n",
              "      }\n",
              "    </script>\n",
              "  </div>\n",
              "\n",
              "\n",
              "<div id=\"df-939e8209-6eb4-467a-8406-ee7aa50d8eb7\">\n",
              "  <button class=\"colab-df-quickchart\" onclick=\"quickchart('df-939e8209-6eb4-467a-8406-ee7aa50d8eb7')\"\n",
              "            title=\"Suggest charts\"\n",
              "            style=\"display:none;\">\n",
              "\n",
              "<svg xmlns=\"http://www.w3.org/2000/svg\" height=\"24px\"viewBox=\"0 0 24 24\"\n",
              "     width=\"24px\">\n",
              "    <g>\n",
              "        <path d=\"M19 3H5c-1.1 0-2 .9-2 2v14c0 1.1.9 2 2 2h14c1.1 0 2-.9 2-2V5c0-1.1-.9-2-2-2zM9 17H7v-7h2v7zm4 0h-2V7h2v10zm4 0h-2v-4h2v4z\"/>\n",
              "    </g>\n",
              "</svg>\n",
              "  </button>\n",
              "\n",
              "<style>\n",
              "  .colab-df-quickchart {\n",
              "      --bg-color: #E8F0FE;\n",
              "      --fill-color: #1967D2;\n",
              "      --hover-bg-color: #E2EBFA;\n",
              "      --hover-fill-color: #174EA6;\n",
              "      --disabled-fill-color: #AAA;\n",
              "      --disabled-bg-color: #DDD;\n",
              "  }\n",
              "\n",
              "  [theme=dark] .colab-df-quickchart {\n",
              "      --bg-color: #3B4455;\n",
              "      --fill-color: #D2E3FC;\n",
              "      --hover-bg-color: #434B5C;\n",
              "      --hover-fill-color: #FFFFFF;\n",
              "      --disabled-bg-color: #3B4455;\n",
              "      --disabled-fill-color: #666;\n",
              "  }\n",
              "\n",
              "  .colab-df-quickchart {\n",
              "    background-color: var(--bg-color);\n",
              "    border: none;\n",
              "    border-radius: 50%;\n",
              "    cursor: pointer;\n",
              "    display: none;\n",
              "    fill: var(--fill-color);\n",
              "    height: 32px;\n",
              "    padding: 0;\n",
              "    width: 32px;\n",
              "  }\n",
              "\n",
              "  .colab-df-quickchart:hover {\n",
              "    background-color: var(--hover-bg-color);\n",
              "    box-shadow: 0 1px 2px rgba(60, 64, 67, 0.3), 0 1px 3px 1px rgba(60, 64, 67, 0.15);\n",
              "    fill: var(--button-hover-fill-color);\n",
              "  }\n",
              "\n",
              "  .colab-df-quickchart-complete:disabled,\n",
              "  .colab-df-quickchart-complete:disabled:hover {\n",
              "    background-color: var(--disabled-bg-color);\n",
              "    fill: var(--disabled-fill-color);\n",
              "    box-shadow: none;\n",
              "  }\n",
              "\n",
              "  .colab-df-spinner {\n",
              "    border: 2px solid var(--fill-color);\n",
              "    border-color: transparent;\n",
              "    border-bottom-color: var(--fill-color);\n",
              "    animation:\n",
              "      spin 1s steps(1) infinite;\n",
              "  }\n",
              "\n",
              "  @keyframes spin {\n",
              "    0% {\n",
              "      border-color: transparent;\n",
              "      border-bottom-color: var(--fill-color);\n",
              "      border-left-color: var(--fill-color);\n",
              "    }\n",
              "    20% {\n",
              "      border-color: transparent;\n",
              "      border-left-color: var(--fill-color);\n",
              "      border-top-color: var(--fill-color);\n",
              "    }\n",
              "    30% {\n",
              "      border-color: transparent;\n",
              "      border-left-color: var(--fill-color);\n",
              "      border-top-color: var(--fill-color);\n",
              "      border-right-color: var(--fill-color);\n",
              "    }\n",
              "    40% {\n",
              "      border-color: transparent;\n",
              "      border-right-color: var(--fill-color);\n",
              "      border-top-color: var(--fill-color);\n",
              "    }\n",
              "    60% {\n",
              "      border-color: transparent;\n",
              "      border-right-color: var(--fill-color);\n",
              "    }\n",
              "    80% {\n",
              "      border-color: transparent;\n",
              "      border-right-color: var(--fill-color);\n",
              "      border-bottom-color: var(--fill-color);\n",
              "    }\n",
              "    90% {\n",
              "      border-color: transparent;\n",
              "      border-bottom-color: var(--fill-color);\n",
              "    }\n",
              "  }\n",
              "</style>\n",
              "\n",
              "  <script>\n",
              "    async function quickchart(key) {\n",
              "      const quickchartButtonEl =\n",
              "        document.querySelector('#' + key + ' button');\n",
              "      quickchartButtonEl.disabled = true;  // To prevent multiple clicks.\n",
              "      quickchartButtonEl.classList.add('colab-df-spinner');\n",
              "      try {\n",
              "        const charts = await google.colab.kernel.invokeFunction(\n",
              "            'suggestCharts', [key], {});\n",
              "      } catch (error) {\n",
              "        console.error('Error during call to suggestCharts:', error);\n",
              "      }\n",
              "      quickchartButtonEl.classList.remove('colab-df-spinner');\n",
              "      quickchartButtonEl.classList.add('colab-df-quickchart-complete');\n",
              "    }\n",
              "    (() => {\n",
              "      let quickchartButtonEl =\n",
              "        document.querySelector('#df-939e8209-6eb4-467a-8406-ee7aa50d8eb7 button');\n",
              "      quickchartButtonEl.style.display =\n",
              "        google.colab.kernel.accessAllowed ? 'block' : 'none';\n",
              "    })();\n",
              "  </script>\n",
              "</div>\n",
              "\n",
              "    </div>\n",
              "  </div>\n"
            ],
            "application/vnd.google.colaboratory.intrinsic+json": {
              "type": "dataframe",
              "summary": "{\n  \"name\": \"data\",\n  \"rows\": 2,\n  \"fields\": [\n    {\n      \"column\": [\n        \"label\",\n        \"\"\n      ],\n      \"properties\": {\n        \"dtype\": \"number\",\n        \"std\": 0,\n        \"min\": 0,\n        \"max\": 1,\n        \"num_unique_values\": 2,\n        \"samples\": [\n          1,\n          0\n        ],\n        \"semantic_type\": \"\",\n        \"description\": \"\"\n      }\n    },\n    {\n      \"column\": [\n        \"email\",\n        \"count\"\n      ],\n      \"properties\": {\n        \"dtype\": \"date\",\n        \"min\": \"747\",\n        \"max\": \"4824\",\n        \"num_unique_values\": 2,\n        \"samples\": [\n          \"747\",\n          \"4824\"\n        ],\n        \"semantic_type\": \"\",\n        \"description\": \"\"\n      }\n    },\n    {\n      \"column\": [\n        \"email\",\n        \"unique\"\n      ],\n      \"properties\": {\n        \"dtype\": \"date\",\n        \"min\": 653,\n        \"max\": 4510,\n        \"num_unique_values\": 2,\n        \"samples\": [\n          653,\n          4510\n        ],\n        \"semantic_type\": \"\",\n        \"description\": \"\"\n      }\n    },\n    {\n      \"column\": [\n        \"email\",\n        \"top\"\n      ],\n      \"properties\": {\n        \"dtype\": \"string\",\n        \"num_unique_values\": 2,\n        \"samples\": [\n          \"Please call our customer service representative on FREEPHONE 0808 145 4742 between 9am-11pm as you have WON a guaranteed \\ufffd1000 cash or \\ufffd5000 prize!\",\n          \"Sorry, I'll call later\"\n        ],\n        \"semantic_type\": \"\",\n        \"description\": \"\"\n      }\n    },\n    {\n      \"column\": [\n        \"email\",\n        \"freq\"\n      ],\n      \"properties\": {\n        \"dtype\": \"date\",\n        \"min\": \"4\",\n        \"max\": \"30\",\n        \"num_unique_values\": 2,\n        \"samples\": [\n          \"4\",\n          \"30\"\n        ],\n        \"semantic_type\": \"\",\n        \"description\": \"\"\n      }\n    }\n  ]\n}"
            }
          },
          "metadata": {},
          "execution_count": 9
        }
      ]
    },
    {
      "cell_type": "markdown",
      "source": [
        "Iterate over each row in the DataFrame using. For each row, convert the content of the 'email' column to a string and append it to the `text` list."
      ],
      "metadata": {
        "id": "b2Jhktft0f5g"
      }
    },
    {
      "cell_type": "code",
      "execution_count": 3,
      "metadata": {
        "id": "Acg3i4RqgpGe",
        "outputId": "4997565d-1212-4643-f397-8fed65031054",
        "colab": {
          "base_uri": "https://localhost:8080/"
        }
      },
      "outputs": [
        {
          "output_type": "execute_result",
          "data": {
            "text/plain": [
              "5572"
            ]
          },
          "metadata": {},
          "execution_count": 3
        }
      ],
      "source": [
        "data['label'].value_counts()\n",
        "email_text = []\n",
        "\n",
        "for index, rows in data.iterrows():\n",
        "    email_single = str(rows.email)\n",
        "    email_text.append(email_single)\n",
        "print(f'Total number of emails: {len(email_text)}')"
      ]
    },
    {
      "cell_type": "markdown",
      "source": [
        " ## Text tokenization\n",
        " Prepare your text data for a text classification ML model. Tokenize the text data using the Tokenizer class, which is typically used in natural language processing (NLP) tasks."
      ],
      "metadata": {
        "id": "bNhn-NlD1IkW"
      }
    },
    {
      "cell_type": "code",
      "execution_count": 35,
      "metadata": {
        "id": "pGMVYNr-gpGf"
      },
      "outputs": [],
      "source": [
        "from keras.preprocessing.text import Tokenizer\n",
        "\n",
        "# Extract the 'label' column as a list.\n",
        "label = list(data['label'])\n",
        "\n",
        "# Create an instance of the Tokenizer class with a vocabulary size of 1000.\n",
        "tokenizer = Tokenizer(num_words = 1000)\n",
        "\n",
        "# Fit the tokenizer on the 'email_text' data.\n",
        "tokenizer.fit_on_texts(email_text)\n",
        "\n",
        "# Convert the 'email_text' data into sequences of integers.\n",
        "sequences = tokenizer.texts_to_sequences(email_text)"
      ]
    },
    {
      "cell_type": "markdown",
      "source": [
        "Split the data into training and testing sets. Pad the sequences to ensure they all have the same length. In text data, it's common to pad or truncate sequences to a fixed length before feeding them into a neural network."
      ],
      "metadata": {
        "id": "y4A3N2Du2TTa"
      }
    },
    {
      "cell_type": "code",
      "execution_count": 10,
      "metadata": {
        "id": "YfMEE5yygpGg"
      },
      "outputs": [],
      "source": [
        "from keras import preprocessing\n",
        "from sklearn.model_selection import train_test_split\n",
        "import numpy as np\n",
        "\n",
        "# Split the data into training and testing sets.\n",
        "x_train, x_test, y_train, y_test = train_test_split(sequences, label, test_size=0.2, random_state=42)\n",
        "\n",
        "maxlen = 20\n",
        "x_train = np.array(preprocessing.sequence.pad_sequences(x_train, maxlen=maxlen))\n",
        "x_test = np.array(preprocessing.sequence.pad_sequences(x_test, maxlen=maxlen))\n",
        "\n",
        "y_train = np.array(y_train)\n",
        "y_test = np.array(y_test)"
      ]
    },
    {
      "cell_type": "markdown",
      "source": [
        "# Model implementation\n",
        "Let's initilize a sequential model using Keras, where you can add layers one by one in sequence.\n",
        "* First, add an Embedding layer to the model. It is often used for handling text data or categorical data where there is a need to convert integer-encoded representations of words or categories into dense vectors of fixed size.\n",
        "\n",
        "* Then, add a Long Short-Term Memory (LSTM) layer with 32 units to the model. It is a type of recurrent neural network (RNN) layer. It is used for handling sequential data, capturing dependencies over time.\n",
        "\n",
        "* And lastly, add a dense layer with a single unit and a sigmoid activation function. It is a fully connected layer, where each neuron in the layer is connected to every neuron in the previous layer. In our case `1` indicates that the output is a single scalar value (binary classification).\n",
        "\n",
        "Then complile the model with the parameters:\n",
        "* `rmsprop` optimization algorithm used during training (Root Mean Square Propagation adapts the learning rates of each parameter individually)\n",
        "* `binary_crossentropy` loss function (well-suited for binary classification problems where each example belongs to only one of the two classes)\n",
        "* `acc` metric used to evaluate the performance of the model during training (accuracy measures the proportion of correctly classified examples out of the total number of examples)."
      ],
      "metadata": {
        "id": "yhfcdJEx8PdP"
      }
    },
    {
      "cell_type": "code",
      "execution_count": 11,
      "metadata": {
        "id": "uGUgKY24gpGh",
        "outputId": "26ff77a5-99ad-46b1-e4e7-9d5d4d2baf29",
        "colab": {
          "base_uri": "https://localhost:8080/"
        }
      },
      "outputs": [
        {
          "output_type": "stream",
          "name": "stdout",
          "text": [
            "Model: \"sequential_1\"\n",
            "_________________________________________________________________\n",
            " Layer (type)                Output Shape              Param #   \n",
            "=================================================================\n",
            " embedding_1 (Embedding)     (None, 20, 8)             16000     \n",
            "                                                                 \n",
            " lstm_1 (LSTM)               (None, 32)                5248      \n",
            "                                                                 \n",
            " dense_1 (Dense)             (None, 1)                 33        \n",
            "                                                                 \n",
            "=================================================================\n",
            "Total params: 21281 (83.13 KB)\n",
            "Trainable params: 21281 (83.13 KB)\n",
            "Non-trainable params: 0 (0.00 Byte)\n",
            "_________________________________________________________________\n"
          ]
        }
      ],
      "source": [
        "from keras.models import Sequential\n",
        "from keras.layers import Embedding, LSTM, Dense\n",
        "\n",
        "model_lstm = Sequential()\n",
        "model_lstm.add(Embedding(2000, 8, input_length=maxlen))\n",
        "model_lstm.add(LSTM(32))\n",
        "model_lstm.add(Dense(1, activation='sigmoid'))\n",
        "model_lstm.compile(optimizer='rmsprop', loss='binary_crossentropy', metrics=['acc'])\n",
        "model_lstm.summary()"
      ]
    },
    {
      "cell_type": "markdown",
      "source": [
        "# Model training\n",
        "\n",
        "To train out model, we specify the parameters:\n",
        "\n",
        "* Epochs: how many times the model will iterate over the entire training dataset.\n",
        "* Batch size: the number of samples in each batch, or sub-division of the training data after processing which the model weights are updated.\n",
        "* Validation split: the portion of the training data that will be used for validation (e.g., 20% of the training data)."
      ],
      "metadata": {
        "id": "KkyiNwm4BvEb"
      }
    },
    {
      "cell_type": "code",
      "source": [
        "history_lstm = model_lstm.fit(x_train, y_train,\n",
        "                    epochs=10,\n",
        "                    batch_size=32,\n",
        "                    validation_split=0.2)"
      ],
      "metadata": {
        "id": "xvHSvksvBvr_",
        "colab": {
          "base_uri": "https://localhost:8080/"
        },
        "outputId": "8148de31-f57a-4303-c1b0-7fedcd52a751"
      },
      "execution_count": 12,
      "outputs": [
        {
          "output_type": "stream",
          "name": "stdout",
          "text": [
            "Epoch 1/10\n",
            "112/112 [==============================] - 10s 23ms/step - loss: 0.2940 - acc: 0.8979 - val_loss: 0.1730 - val_acc: 0.9697\n",
            "Epoch 2/10\n",
            "112/112 [==============================] - 1s 11ms/step - loss: 0.1152 - acc: 0.9714 - val_loss: 0.0953 - val_acc: 0.9753\n",
            "Epoch 3/10\n",
            "112/112 [==============================] - 1s 11ms/step - loss: 0.0781 - acc: 0.9798 - val_loss: 0.0707 - val_acc: 0.9809\n",
            "Epoch 4/10\n",
            "112/112 [==============================] - 1s 11ms/step - loss: 0.0574 - acc: 0.9849 - val_loss: 0.0605 - val_acc: 0.9832\n",
            "Epoch 5/10\n",
            "112/112 [==============================] - 1s 11ms/step - loss: 0.0453 - acc: 0.9871 - val_loss: 0.0574 - val_acc: 0.9854\n",
            "Epoch 6/10\n",
            "112/112 [==============================] - 1s 11ms/step - loss: 0.0377 - acc: 0.9902 - val_loss: 0.0562 - val_acc: 0.9865\n",
            "Epoch 7/10\n",
            "112/112 [==============================] - 1s 10ms/step - loss: 0.0344 - acc: 0.9913 - val_loss: 0.0546 - val_acc: 0.9854\n",
            "Epoch 8/10\n",
            "112/112 [==============================] - 1s 10ms/step - loss: 0.0297 - acc: 0.9919 - val_loss: 0.0612 - val_acc: 0.9865\n",
            "Epoch 9/10\n",
            "112/112 [==============================] - 1s 11ms/step - loss: 0.0266 - acc: 0.9921 - val_loss: 0.0552 - val_acc: 0.9888\n",
            "Epoch 10/10\n",
            "112/112 [==============================] - 2s 14ms/step - loss: 0.0235 - acc: 0.9938 - val_loss: 0.0694 - val_acc: 0.9854\n"
          ]
        }
      ]
    },
    {
      "cell_type": "markdown",
      "source": [
        "# Learning curves\n",
        "\n",
        "Once the training is done, we can look at the learning curves.\n",
        "\n",
        "### Training loss\n",
        "Represents the value of the loss function on the training dataset.\n",
        "\n",
        "**Interpretation**: A decreasing training loss suggests that the model is improving its ability to fit the training data. If the training loss remains high and doesn't decrease significantly over epochs, it indicates that the model is struggling to fit the training data. This could be a sign of underfitting (also known as **high bias**).\n",
        "\n",
        "### Validation loss\n",
        "Represents the value of the loss function on a separate validation dataset not used during training.\n",
        "\n",
        "**Interpretation**: If the training loss is decreasing but the validation loss is increasing or not decreasing, it could be a sign of overfitting (also known as **high variance**). Overfitting occurs when the model learns to perform well on the training data but fails to generalize to new data.\n",
        "\n",
        "### Training accuracy\n",
        "Represents the accuracy of the model on the training dataset. It indicates the proportion of correctly classified samples in the training data.\n",
        "\n",
        "**Interpretation**: Increasing training accuracy is a positive sign, but high training accuracy alone does not guarantee good generalization. It's possible for a model to memorize the training data without truly learning the underlying patterns.\n",
        "\n",
        "### Validation accuracy\n",
        "Represents the accuracy of the model on the validation dataset. It helps assess how well the model generalizes to new data not seen during training.\n",
        "\n",
        "**Interpretation**: Similar to validation loss, if the training accuracy is high but the validation accuracy is significantly lower or not improving, it may indicate overfitting.\n"
      ],
      "metadata": {
        "id": "Uap0hU4zDJtT"
      }
    },
    {
      "cell_type": "code",
      "source": [
        "import matplotlib.pyplot as plt\n",
        "\n",
        "# Get training and validation loss values from the history object.\n",
        "train_loss = history_lstm.history['loss']\n",
        "val_loss = history_lstm.history['val_loss']\n",
        "\n",
        "# Get training and validation accuracy values from the history object.\n",
        "train_acc = history_lstm.history.get('acc', [])\n",
        "val_acc = history_lstm.history.get('val_acc', [])\n",
        "\n",
        "plt.figure(figsize=(12, 6))\n",
        "\n",
        "# Plot training loss.\n",
        "plt.subplot(1, 2, 1)\n",
        "plt.plot(range(1, len(train_loss) + 1), train_loss, label='Training Loss')\n",
        "plt.plot(range(1, len(val_loss) + 1), val_loss, label='Validation Loss')\n",
        "plt.title('Training and Validation Loss')\n",
        "plt.xlabel('Epochs')\n",
        "plt.ylabel('Loss')\n",
        "plt.legend()\n",
        "\n",
        "# Plot the training and validation accuracy.\n",
        "if train_acc and val_acc:\n",
        "    plt.subplot(1, 2, 2)\n",
        "    plt.plot(range(1, len(train_acc) + 1), train_acc, label='Training Accuracy')\n",
        "    plt.plot(range(1, len(val_acc) + 1), val_acc, label='Validation Accuracy')\n",
        "    plt.title('Training and Validation Accuracy')\n",
        "    plt.xlabel('Epochs')\n",
        "    plt.ylabel('Accuracy')\n",
        "    plt.legend()\n",
        "\n",
        "plt.tight_layout()\n",
        "plt.show()\n"
      ],
      "metadata": {
        "colab": {
          "base_uri": "https://localhost:8080/",
          "height": 607
        },
        "id": "paP0jUlJDL4n",
        "outputId": "8e057021-8351-4ce4-b19b-301d8faa1e7e"
      },
      "execution_count": 13,
      "outputs": [
        {
          "output_type": "display_data",
          "data": {
            "text/plain": [
              "<Figure size 1200x600 with 2 Axes>"
            ],
            "image/png": "[encoded data removed]"
          },
          "metadata": {}
        }
      ]
    },
    {
      "cell_type": "markdown",
      "source": [
        "## Summary\n",
        "\n",
        "* **Initial Learning**: In the first few epochs, both the training and validation loss decrease, and both accuracies increase, indicating that the model is learning effectively from the training data.\n",
        "* **Overfitting Signs**: After about 6-7 epochs, the validation loss begins to increase, and the validation accuracy plateaus or slightly decreases. This divergence between training and validation performance suggests that the model might be overfitting the training data"
      ],
      "metadata": {
        "id": "bfrrCr0uC4lF"
      }
    },
    {
      "cell_type": "markdown",
      "source": [
        "## Fixing high bias / high variance\n",
        "\n",
        "At this point I want to insert a nice summary from the [Andrew Ng Machine Learning course](https://www.coursera.org/specializations/machine-learning-introduction?utm_medium=sem&utm_source=gg&utm_campaign=B2C_EMEA_machine-learning-introduction_stanford_FTCOF_specializations_country-multiple-set1&campaignid=20858198833&adgroupid=156245838629&device=c&keyword=andrew%20ng%20machine%20learning&matchtype=p&network=g&devicemodel=&adposition=&creativeid=684249172051&hide_mobile_promo&gad_source=1&gclid=Cj0KCQiAnrOtBhDIARIsAFsSe51HA3UifJdlZAt_9vYGzmb3xWMwz6qwdXEGs4cJiGil-AsCWGQG52kaAmkcEALw_wcB) on the practical approaches to fixing high bias / high variances and model effects.\n",
        "\n",
        "* Getting more training examples: Fixes high variance\n",
        "* Trying smaller sets of features: Fixes high variance\n",
        "* Adding features: Fixes high bias\n",
        "* Adding polynomial features: Fixes high bias\n",
        "* Decreasing λ: Fixes high bias\n",
        "* Increasing λ: Fixes high variance\n",
        "\n",
        "### Diagnosing neural networks\n",
        "\n",
        "* A neural network with fewer parameters is prone to underfitting. It is also computationally cheaper.\n",
        "* A large neural network with more parameters is prone to overfitting. It is also computationally expensive. In this case you can use regularization (increase λ) to address the overfitting.\n",
        "\n",
        "Using a single hidden layer is a good starting default. You can train your neural network on a number of hidden layers using your cross validation set. You can then select the one that performs best.\n",
        "\n",
        "### Model complexity effects\n",
        "\n",
        "* Lower-order polynomials (low model complexity) have high bias and low variance. In this case, the model fits poorly consistently.\n",
        "\n",
        "* Higher-order polynomials (high model complexity) fit the training data extremely well and the test data extremely poorly. These have low bias on the training data, but very high variance.\n",
        "\n",
        "* In reality, we would want to choose a model somewhere in between, that can generalize well but also fits the data reasonably well.\n"
      ],
      "metadata": {
        "id": "fPQ3zrYfIFgu"
      }
    },
    {
      "cell_type": "markdown",
      "source": [
        "# Model evaluation\n",
        "\n",
        "Now let's assess the performance of the trained model on a test dataset."
      ],
      "metadata": {
        "id": "HubTyTUTI56n"
      }
    },
    {
      "cell_type": "code",
      "execution_count": 14,
      "metadata": {
        "id": "KUt96rjYgpGi",
        "outputId": "543475e2-173a-4b82-f3f5-a876aff06b97",
        "colab": {
          "base_uri": "https://localhost:8080/"
        }
      },
      "outputs": [
        {
          "output_type": "stream",
          "name": "stdout",
          "text": [
            "35/35 [==============================] - 0s 5ms/step - loss: 0.0586 - acc: 0.9857\n",
            "test loss:0.058646026998758316\n",
            "test accuracy:0.9856502413749695\n"
          ]
        }
      ],
      "source": [
        "result=model_lstm.evaluate(x_test,y_test)\n",
        "print(\"test loss:{}\\ntest accuracy:{}\".format(result[0],result[1]))"
      ]
    },
    {
      "cell_type": "markdown",
      "source": [
        "**Test loss**: represents the difference between the model's predictions and the actual labels on the test data. In this case it is relatively low.\n",
        "\n",
        "**Test accuracy**: measures the proportion of correctly classified examples in the test dataset."
      ],
      "metadata": {
        "id": "bH8fl8g7K27E"
      }
    }
  ],
  "metadata": {
    "kernelspec": {
      "display_name": "Python 3",
      "language": "python",
      "name": "python3"
    },
    "language_info": {
      "codemirror_mode": {
        "name": "ipython",
        "version": 3
      },
      "file_extension": ".py",
      "mimetype": "text/x-python",
      "name": "python",
      "nbconvert_exporter": "python",
      "pygments_lexer": "ipython3",
      "version": "3.6.6"
    },
    "colab": {
      "provenance": []
    }
  },
  "nbformat": 4,
  "nbformat_minor": 0
}